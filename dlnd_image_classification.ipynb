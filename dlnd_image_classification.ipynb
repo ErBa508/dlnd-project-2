{
 "cells": [
  {
   "cell_type": "markdown",
   "metadata": {
    "collapsed": true,
    "deletable": true,
    "editable": true
   },
   "source": [
    "# Image Classification\n",
    "In this project, you'll classify images from the [CIFAR-10 dataset](https://www.cs.toronto.edu/~kriz/cifar.html).  The dataset consists of airplanes, dogs, cats, and other objects. You'll preprocess the images, then train a convolutional neural network on all the samples. The images need to be normalized and the labels need to be one-hot encoded.  You'll get to apply what you learned and build a convolutional, max pooling, dropout, and fully connected layers.  At the end, you'll get to see your neural network's predictions on the sample images.\n",
    "## Get the Data\n",
    "Run the following cell to download the [CIFAR-10 dataset for python](https://www.cs.toronto.edu/~kriz/cifar-10-python.tar.gz)."
   ]
  },
  {
   "cell_type": "code",
   "execution_count": 1,
   "metadata": {
    "collapsed": false,
    "deletable": true,
    "editable": true
   },
   "outputs": [
    {
     "name": "stdout",
     "output_type": "stream",
     "text": [
      "All files found!\n"
     ]
    }
   ],
   "source": [
    "\"\"\"\n",
    "DON'T MODIFY ANYTHING IN THIS CELL THAT IS BELOW THIS LINE\n",
    "\"\"\"\n",
    "from urllib.request import urlretrieve\n",
    "from os.path import isfile, isdir\n",
    "from tqdm import tqdm\n",
    "import problem_unittests as tests\n",
    "import tarfile\n",
    "\n",
    "cifar10_dataset_folder_path = 'cifar-10-batches-py'\n",
    "\n",
    "# Use Floyd's cifar-10 dataset if present\n",
    "floyd_cifar10_location = '/input/cifar-10/python.tar.gz'\n",
    "if isfile(floyd_cifar10_location):\n",
    "    tar_gz_path = floyd_cifar10_location\n",
    "else:\n",
    "    tar_gz_path = 'cifar-10-python.tar.gz'\n",
    "\n",
    "class DLProgress(tqdm):\n",
    "    last_block = 0\n",
    "\n",
    "    def hook(self, block_num=1, block_size=1, total_size=None):\n",
    "        self.total = total_size\n",
    "        self.update((block_num - self.last_block) * block_size)\n",
    "        self.last_block = block_num\n",
    "\n",
    "if not isfile(tar_gz_path):\n",
    "    with DLProgress(unit='B', unit_scale=True, miniters=1, desc='CIFAR-10 Dataset') as pbar:\n",
    "        urlretrieve(\n",
    "            'https://www.cs.toronto.edu/~kriz/cifar-10-python.tar.gz',\n",
    "            tar_gz_path,\n",
    "            pbar.hook)\n",
    "\n",
    "if not isdir(cifar10_dataset_folder_path):\n",
    "    with tarfile.open(tar_gz_path) as tar:\n",
    "        tar.extractall()\n",
    "        tar.close()\n",
    "\n",
    "\n",
    "tests.test_folder_path(cifar10_dataset_folder_path)"
   ]
  },
  {
   "cell_type": "markdown",
   "metadata": {
    "deletable": true,
    "editable": true
   },
   "source": [
    "## Explore the Data\n",
    "The dataset is broken into batches to prevent your machine from running out of memory.  The CIFAR-10 dataset consists of 5 batches, named `data_batch_1`, `data_batch_2`, etc.. Each batch contains the labels and images that are one of the following:\n",
    "* airplane\n",
    "* automobile\n",
    "* bird\n",
    "* cat\n",
    "* deer\n",
    "* dog\n",
    "* frog\n",
    "* horse\n",
    "* ship\n",
    "* truck\n",
    "\n",
    "Understanding a dataset is part of making predictions on the data.  Play around with the code cell below by changing the `batch_id` and `sample_id`. The `batch_id` is the id for a batch (1-5). The `sample_id` is the id for a image and label pair in the batch.\n",
    "\n",
    "Ask yourself \"What are all possible labels?\", \"What is the range of values for the image data?\", \"Are the labels in order or random?\".  Answers to questions like these will help you preprocess the data and end up with better predictions."
   ]
  },
  {
   "cell_type": "code",
   "execution_count": 2,
   "metadata": {
    "collapsed": false,
    "deletable": true,
    "editable": true
   },
   "outputs": [
    {
     "name": "stdout",
     "output_type": "stream",
     "text": [
      "\n",
      "Stats of batch 1:\n",
      "Samples: 10000\n",
      "Label Counts: {0: 1005, 1: 974, 2: 1032, 3: 1016, 4: 999, 5: 937, 6: 1030, 7: 1001, 8: 1025, 9: 981}\n",
      "First 20 Labels: [6, 9, 9, 4, 1, 1, 2, 7, 8, 3, 4, 7, 7, 2, 9, 9, 9, 3, 2, 6]\n",
      "\n",
      "Example of Image 5:\n",
      "Image - Min Value: 0 Max Value: 252\n",
      "Image - Shape: (32, 32, 3)\n",
      "Label - Label Id: 1 Name: automobile\n"
     ]
    },
    {
     "data": {
      "image/png": "[encoded data removed]",
      "text/plain": [
       "<matplotlib.figure.Figure at 0x7f63708a3400>"
      ]
     },
     "metadata": {
      "image/png": {
       "height": 250,
       "width": 253
      }
     },
     "output_type": "display_data"
    }
   ],
   "source": [
    "%matplotlib inline\n",
    "%config InlineBackend.figure_format = 'retina'\n",
    "\n",
    "import helper\n",
    "import numpy as np\n",
    "\n",
    "# Explore the dataset\n",
    "batch_id = 1\n",
    "sample_id = 5\n",
    "helper.display_stats(cifar10_dataset_folder_path, batch_id, sample_id)"
   ]
  },
  {
   "cell_type": "markdown",
   "metadata": {
    "deletable": true,
    "editable": true
   },
   "source": [
    "## Implement Preprocess Functions\n",
    "### Normalize\n",
    "In the cell below, implement the `normalize` function to take in image data, `x`, and return it as a normalized Numpy array. The values should be in the range of 0 to 1, inclusive.  The return object should be the same shape as `x`."
   ]
  },
  {
   "cell_type": "code",
   "execution_count": 3,
   "metadata": {
    "collapsed": false,
    "deletable": true,
    "editable": true
   },
   "outputs": [
    {
     "name": "stdout",
     "output_type": "stream",
     "text": [
      "Tests Passed\n"
     ]
    }
   ],
   "source": [
    "def normalize(x):\n",
    "    \"\"\"\n",
    "    Normalize a list of sample image data in the range of 0 to 1\n",
    "    : x: List of image data.  The image shape is (32, 32, 3)\n",
    "    : return: Numpy array of normalize data\n",
    "    \"\"\"\n",
    "    # TODO: Implement Function\n",
    "    return x/255\n",
    "\n",
    "\n",
    "\"\"\"\n",
    "DON'T MODIFY ANYTHING IN THIS CELL THAT IS BELOW THIS LINE\n",
    "\"\"\"\n",
    "tests.test_normalize(normalize)"
   ]
  },
  {
   "cell_type": "markdown",
   "metadata": {
    "deletable": true,
    "editable": true
   },
   "source": [
    "### One-hot encode\n",
    "Just like the previous code cell, you'll be implementing a function for preprocessing.  This time, you'll implement the `one_hot_encode` function. The input, `x`, are a list of labels.  Implement the function to return the list of labels as One-Hot encoded Numpy array.  The possible values for labels are 0 to 9. The one-hot encoding function should return the same encoding for each value between each call to `one_hot_encode`.  Make sure to save the map of encodings outside the function.\n",
    "\n",
    "Hint: Don't reinvent the wheel."
   ]
  },
  {
   "cell_type": "code",
   "execution_count": 4,
   "metadata": {
    "collapsed": false,
    "deletable": true,
    "editable": true
   },
   "outputs": [
    {
     "name": "stdout",
     "output_type": "stream",
     "text": [
      "Tests Passed\n"
     ]
    }
   ],
   "source": [
    "def one_hot_encode(x):\n",
    "    \"\"\"\n",
    "    One hot encode a list of sample labels. Return a one-hot encoded vector for each label.\n",
    "    : x: List of sample Labels\n",
    "    : return: Numpy array of one-hot encoded labels\n",
    "    \"\"\"\n",
    "    # TODO: Implement Function\n",
    "    from sklearn import preprocessing\n",
    "    lb = preprocessing.LabelBinarizer(sparse_output=False)\n",
    "    lb.fit(range(0,10))\n",
    "    return lb.transform(x)\n",
    "\n",
    "\n",
    "\"\"\"\n",
    "DON'T MODIFY ANYTHING IN THIS CELL THAT IS BELOW THIS LINE\n",
    "\"\"\"\n",
    "tests.test_one_hot_encode(one_hot_encode)"
   ]
  },
  {
   "cell_type": "markdown",
   "metadata": {
    "deletable": true,
    "editable": true
   },
   "source": [
    "### Randomize Data\n",
    "As you saw from exploring the data above, the order of the samples are randomized.  It doesn't hurt to randomize it again, but you don't need to for this dataset."
   ]
  },
  {
   "cell_type": "markdown",
   "metadata": {
    "deletable": true,
    "editable": true
   },
   "source": [
    "## Preprocess all the data and save it\n",
    "Running the code cell below will preprocess all the CIFAR-10 data and save it to file. The code below also uses 10% of the training data for validation."
   ]
  },
  {
   "cell_type": "code",
   "execution_count": 5,
   "metadata": {
    "collapsed": false,
    "deletable": true,
    "editable": true
   },
   "outputs": [],
   "source": [
    "\"\"\"\n",
    "DON'T MODIFY ANYTHING IN THIS CELL\n",
    "\"\"\"\n",
    "# Preprocess Training, Validation, and Testing Data\n",
    "helper.preprocess_and_save_data(cifar10_dataset_folder_path, normalize, one_hot_encode)"
   ]
  },
  {
   "cell_type": "markdown",
   "metadata": {
    "deletable": true,
    "editable": true
   },
   "source": [
    "# Check Point\n",
    "This is your first checkpoint.  If you ever decide to come back to this notebook or have to restart the notebook, you can start from here.  The preprocessed data has been saved to disk."
   ]
  },
  {
   "cell_type": "code",
   "execution_count": 6,
   "metadata": {
    "collapsed": true,
    "deletable": true,
    "editable": true
   },
   "outputs": [],
   "source": [
    "\"\"\"\n",
    "DON'T MODIFY ANYTHING IN THIS CELL\n",
    "\"\"\"\n",
    "import pickle\n",
    "import problem_unittests as tests\n",
    "import helper\n",
    "\n",
    "# Load the Preprocessed Validation data\n",
    "valid_features, valid_labels = pickle.load(open('preprocess_validation.p', mode='rb'))"
   ]
  },
  {
   "cell_type": "markdown",
   "metadata": {
    "deletable": true,
    "editable": true
   },
   "source": [
    "## Build the network\n",
    "For the neural network, you'll build each layer into a function.  Most of the code you've seen has been outside of functions. To test your code more thoroughly, we require that you put each layer in a function.  This allows us to give you better feedback and test for simple mistakes using our unittests before you submit your project.\n",
    "\n",
    ">**Note:** If you're finding it hard to dedicate enough time for this course each week, we've provided a small shortcut to this part of the project. In the next couple of problems, you'll have the option to use classes from the [TensorFlow Layers](https://www.tensorflow.org/api_docs/python/tf/layers) or [TensorFlow Layers (contrib)](https://www.tensorflow.org/api_guides/python/contrib.layers) packages to build each layer, except the layers you build in the \"Convolutional and Max Pooling Layer\" section.  TF Layers is similar to Keras's and TFLearn's abstraction to layers, so it's easy to pickup.\n",
    "\n",
    ">However, if you would like to get the most out of this course, try to solve all the problems _without_ using anything from the TF Layers packages. You **can** still use classes from other packages that happen to have the same name as ones you find in TF Layers! For example, instead of using the TF Layers version of the `conv2d` class, [tf.layers.conv2d](https://www.tensorflow.org/api_docs/python/tf/layers/conv2d), you would want to use the TF Neural Network version of `conv2d`, [tf.nn.conv2d](https://www.tensorflow.org/api_docs/python/tf/nn/conv2d). \n",
    "\n",
    "Let's begin!\n",
    "\n",
    "### Input\n",
    "The neural network needs to read the image data, one-hot encoded labels, and dropout keep probability. Implement the following functions\n",
    "* Implement `neural_net_image_input`\n",
    " * Return a [TF Placeholder](https://www.tensorflow.org/api_docs/python/tf/placeholder)\n",
    " * Set the shape using `image_shape` with batch size set to `None`.\n",
    " * Name the TensorFlow placeholder \"x\" using the TensorFlow `name` parameter in the [TF Placeholder](https://www.tensorflow.org/api_docs/python/tf/placeholder).\n",
    "* Implement `neural_net_label_input`\n",
    " * Return a [TF Placeholder](https://www.tensorflow.org/api_docs/python/tf/placeholder)\n",
    " * Set the shape using `n_classes` with batch size set to `None`.\n",
    " * Name the TensorFlow placeholder \"y\" using the TensorFlow `name` parameter in the [TF Placeholder](https://www.tensorflow.org/api_docs/python/tf/placeholder).\n",
    "* Implement `neural_net_keep_prob_input`\n",
    " * Return a [TF Placeholder](https://www.tensorflow.org/api_docs/python/tf/placeholder) for dropout keep probability.\n",
    " * Name the TensorFlow placeholder \"keep_prob\" using the TensorFlow `name` parameter in the [TF Placeholder](https://www.tensorflow.org/api_docs/python/tf/placeholder).\n",
    "\n",
    "These names will be used at the end of the project to load your saved model.\n",
    "\n",
    "Note: `None` for shapes in TensorFlow allow for a dynamic size."
   ]
  },
  {
   "cell_type": "code",
   "execution_count": 7,
   "metadata": {
    "collapsed": false,
    "deletable": true,
    "editable": true
   },
   "outputs": [
    {
     "name": "stdout",
     "output_type": "stream",
     "text": [
      "Image Input Tests Passed.\n",
      "Label Input Tests Passed.\n",
      "Keep Prob Tests Passed.\n"
     ]
    }
   ],
   "source": [
    "import tensorflow as tf\n",
    "\n",
    "def neural_net_image_input(image_shape):\n",
    "    \"\"\"\n",
    "    Return a Tensor for a bach of image input\n",
    "    : image_shape: Shape of the images\n",
    "    : return: Tensor for image input.\n",
    "    \"\"\"\n",
    "    # TODO: Implement Function\n",
    "    x = tf.placeholder(tf.float32, (None, image_shape[0], image_shape[1], image_shape[2]), name='x')\n",
    "    return x\n",
    "\n",
    "\n",
    "def neural_net_label_input(n_classes):\n",
    "    \"\"\"\n",
    "    Return a Tensor for a batch of label input\n",
    "    : n_classes: Number of classes\n",
    "    : return: Tensor for label input.\n",
    "    \"\"\"\n",
    "    # TODO: Implement Function\n",
    "    y = tf.placeholder(tf.float32, (None, n_classes), name='y')\n",
    "    return y\n",
    "\n",
    "\n",
    "def neural_net_keep_prob_input():\n",
    "    \"\"\"\n",
    "    Return a Tensor for keep probability\n",
    "    : return: Tensor for keep probability.\n",
    "    \"\"\"\n",
    "    # TODO: Implement Function\n",
    "    keep_prob = tf.placeholder(tf.float32, name='keep_prob')\n",
    "    return keep_prob\n",
    "\n",
    "\n",
    "\"\"\"\n",
    "DON'T MODIFY ANYTHING IN THIS CELL THAT IS BELOW THIS LINE\n",
    "\"\"\"\n",
    "tf.reset_default_graph()\n",
    "tests.test_nn_image_inputs(neural_net_image_input)\n",
    "tests.test_nn_label_inputs(neural_net_label_input)\n",
    "tests.test_nn_keep_prob_inputs(neural_net_keep_prob_input)"
   ]
  },
  {
   "cell_type": "markdown",
   "metadata": {
    "deletable": true,
    "editable": true
   },
   "source": [
    "### Convolution and Max Pooling Layer\n",
    "Convolution layers have a lot of success with images. For this code cell, you should implement the function `conv2d_maxpool` to apply convolution then max pooling:\n",
    "* Create the weight and bias using `conv_ksize`, `conv_num_outputs` and the shape of `x_tensor`.\n",
    "* Apply a convolution to `x_tensor` using weight and `conv_strides`.\n",
    " * We recommend you use same padding, but you're welcome to use any padding.\n",
    "* Add bias\n",
    "* Add a nonlinear activation to the convolution.\n",
    "* Apply Max Pooling using `pool_ksize` and `pool_strides`.\n",
    " * We recommend you use same padding, but you're welcome to use any padding.\n",
    "\n",
    "**Note:** You **can't** use [TensorFlow Layers](https://www.tensorflow.org/api_docs/python/tf/layers) or [TensorFlow Layers (contrib)](https://www.tensorflow.org/api_guides/python/contrib.layers) for **this** layer, but you can still use TensorFlow's [Neural Network](https://www.tensorflow.org/api_docs/python/tf/nn) package. You may still use the shortcut option for all the **other** layers."
   ]
  },
  {
   "cell_type": "code",
   "execution_count": 8,
   "metadata": {
    "collapsed": false,
    "deletable": true,
    "editable": true
   },
   "outputs": [
    {
     "name": "stdout",
     "output_type": "stream",
     "text": [
      "Tests Passed\n"
     ]
    }
   ],
   "source": [
    "def conv2d_maxpool(x_tensor, conv_num_outputs, conv_ksize, conv_strides, pool_ksize, pool_strides):\n",
    "    \"\"\"\n",
    "    Apply convolution then max pooling to x_tensor\n",
    "    :param x_tensor: TensorFlow Tensor\n",
    "    :param conv_num_outputs: Number of outputs for the convolutional layer\n",
    "    :param conv_ksize: kernal size 2-D Tuple for the convolutional layer\n",
    "    :param conv_strides: Stride 2-D Tuple for convolution\n",
    "    :param pool_ksize: kernal size 2-D Tuple for pool\n",
    "    :param pool_strides: Stride 2-D Tuple for pool\n",
    "    : return: A tensor that represents convolution and max pooling of x_tensor\n",
    "    \"\"\"\n",
    "    # TODO: Implement Function\n",
    "    weight = tf.Variable(tf.truncated_normal([conv_ksize[0], conv_ksize[1], x_tensor.get_shape().as_list()[-1], \\\n",
    "                                              conv_num_outputs])) # (height, width, input_depth, output_depth)\n",
    "    bias = tf.Variable(tf.zeros(conv_num_outputs))\n",
    "    \n",
    "    # Apply Convolution\n",
    "    conv_layer = tf.nn.conv2d(x_tensor, weight, [1, conv_strides[0], conv_strides[1], 1], padding='SAME')\n",
    "    # Add bias\n",
    "    conv_layer = tf.nn.bias_add(conv_layer, bias)\n",
    "    # Apply activation function\n",
    "    conv_layer = tf.nn.relu(conv_layer)\n",
    "    # Apply Max Pooling\n",
    "    conv_layer = tf.nn.max_pool(conv_layer, ksize=[1, pool_ksize[0], pool_ksize[1], 1], \\\n",
    "                                strides=[1, pool_strides[0], pool_strides[1], 1], padding='SAME')\n",
    "    return conv_layer \n",
    "\n",
    "\n",
    "\"\"\"\n",
    "DON'T MODIFY ANYTHING IN THIS CELL THAT IS BELOW THIS LINE\n",
    "\"\"\"\n",
    "tests.test_con_pool(conv2d_maxpool)"
   ]
  },
  {
   "cell_type": "markdown",
   "metadata": {
    "deletable": true,
    "editable": true
   },
   "source": [
    "### Flatten Layer\n",
    "Implement the `flatten` function to change the dimension of `x_tensor` from a 4-D tensor to a 2-D tensor.  The output should be the shape (*Batch Size*, *Flattened Image Size*). Shortcut option: you can use classes from the [TensorFlow Layers](https://www.tensorflow.org/api_docs/python/tf/layers) or [TensorFlow Layers (contrib)](https://www.tensorflow.org/api_guides/python/contrib.layers) packages for this layer. For more of a challenge, only use other TensorFlow packages."
   ]
  },
  {
   "cell_type": "code",
   "execution_count": 9,
   "metadata": {
    "collapsed": false,
    "deletable": true,
    "editable": true
   },
   "outputs": [
    {
     "name": "stdout",
     "output_type": "stream",
     "text": [
      "Tests Passed\n"
     ]
    }
   ],
   "source": [
    "def flatten(x_tensor):\n",
    "    \"\"\"\n",
    "    Flatten x_tensor to (Batch Size, Flattened Image Size)\n",
    "    : x_tensor: A tensor of size (Batch Size, ...), where ... are the image dimensions.\n",
    "    : return: A tensor of size (Batch Size, Flattened Image Size).\n",
    "    \"\"\"\n",
    "    # TODO: Implement Function\n",
    "    s = x_tensor.get_shape().as_list()\n",
    "    return tf.reshape(x_tensor, [-1, s[1]*s[2]*s[3]])\n",
    "\n",
    "\n",
    "\"\"\"\n",
    "DON'T MODIFY ANYTHING IN THIS CELL THAT IS BELOW THIS LINE\n",
    "\"\"\"\n",
    "tests.test_flatten(flatten)"
   ]
  },
  {
   "cell_type": "markdown",
   "metadata": {
    "deletable": true,
    "editable": true
   },
   "source": [
    "### Fully-Connected Layer\n",
    "Implement the `fully_conn` function to apply a fully connected layer to `x_tensor` with the shape (*Batch Size*, *num_outputs*). Shortcut option: you can use classes from the [TensorFlow Layers](https://www.tensorflow.org/api_docs/python/tf/layers) or [TensorFlow Layers (contrib)](https://www.tensorflow.org/api_guides/python/contrib.layers) packages for this layer. For more of a challenge, only use other TensorFlow packages."
   ]
  },
  {
   "cell_type": "code",
   "execution_count": 66,
   "metadata": {
    "collapsed": false,
    "deletable": true,
    "editable": true
   },
   "outputs": [
    {
     "name": "stdout",
     "output_type": "stream",
     "text": [
      "Tests Passed\n"
     ]
    }
   ],
   "source": [
    "def fully_conn(x_tensor, num_outputs):\n",
    "    \"\"\"\n",
    "    Apply a fully connected layer to x_tensor using weight and bias\n",
    "    : x_tensor: A 2-D tensor where the first dimension is batch size.\n",
    "    : num_outputs: The number of output that the new tensor should be.\n",
    "    : return: A 2-D tensor where the second dimension is num_outputs.\n",
    "    \"\"\"\n",
    "    # TODO: Implement Function\n",
    "    weight = tf.Variable(tf.truncated_normal([x_tensor.get_shape().as_list()[1], num_outputs], mean=0.0, stddev=0.05))\n",
    "    bias = tf.Variable(tf.zeros([num_outputs]))\n",
    "    fc = tf.add(tf.matmul(x_tensor, weight), bias)\n",
    "    return tf.nn.relu(fc)\n",
    "\n",
    "\n",
    "\"\"\"\n",
    "DON'T MODIFY ANYTHING IN THIS CELL THAT IS BELOW THIS LINE\n",
    "\"\"\"\n",
    "tests.test_fully_conn(fully_conn)"
   ]
  },
  {
   "cell_type": "markdown",
   "metadata": {
    "deletable": true,
    "editable": true
   },
   "source": [
    "### Output Layer\n",
    "Implement the `output` function to apply a fully connected layer to `x_tensor` with the shape (*Batch Size*, *num_outputs*). Shortcut option: you can use classes from the [TensorFlow Layers](https://www.tensorflow.org/api_docs/python/tf/layers) or [TensorFlow Layers (contrib)](https://www.tensorflow.org/api_guides/python/contrib.layers) packages for this layer. For more of a challenge, only use other TensorFlow packages.\n",
    "\n",
    "**Note:** Activation, softmax, or cross entropy should **not** be applied to this."
   ]
  },
  {
   "cell_type": "code",
   "execution_count": 67,
   "metadata": {
    "collapsed": false,
    "deletable": true,
    "editable": true
   },
   "outputs": [
    {
     "name": "stdout",
     "output_type": "stream",
     "text": [
      "Tests Passed\n"
     ]
    }
   ],
   "source": [
    "def output(x_tensor, num_outputs):\n",
    "    \"\"\"\n",
    "    Apply a output layer to x_tensor using weight and bias\n",
    "    : x_tensor: A 2-D tensor where the first dimension is batch size.\n",
    "    : num_outputs: The number of output that the new tensor should be.\n",
    "    : return: A 2-D tensor where the second dimension is num_outputs.\n",
    "    \"\"\"\n",
    "    # TODO: Implement Function\n",
    "    weight = tf.Variable(tf.truncated_normal([x_tensor.get_shape().as_list()[1], num_outputs], mean=0.0, stddev=0.05))\n",
    "    bias = tf.Variable(tf.zeros([num_outputs]))\n",
    "    out = tf.add(tf.matmul(x_tensor, weight), bias)                        \n",
    "    return out\n",
    "\n",
    "\n",
    "\"\"\"\n",
    "DON'T MODIFY ANYTHING IN THIS CELL THAT IS BELOW THIS LINE\n",
    "\"\"\"\n",
    "tests.test_output(output)"
   ]
  },
  {
   "cell_type": "markdown",
   "metadata": {
    "deletable": true,
    "editable": true
   },
   "source": [
    "### Create Convolutional Model\n",
    "Implement the function `conv_net` to create a convolutional neural network model. The function takes in a batch of images, `x`, and outputs logits.  Use the layers you created above to create this model:\n",
    "\n",
    "* Apply 1, 2, or 3 Convolution and Max Pool layers\n",
    "* Apply a Flatten Layer\n",
    "* Apply 1, 2, or 3 Fully Connected Layers\n",
    "* Apply an Output Layer\n",
    "* Return the output\n",
    "* Apply [TensorFlow's Dropout](https://www.tensorflow.org/api_docs/python/tf/nn/dropout) to one or more layers in the model using `keep_prob`. "
   ]
  },
  {
   "cell_type": "code",
   "execution_count": 92,
   "metadata": {
    "collapsed": false,
    "deletable": true,
    "editable": true
   },
   "outputs": [
    {
     "name": "stdout",
     "output_type": "stream",
     "text": [
      "Neural Network Built!\n"
     ]
    }
   ],
   "source": [
    "def conv_net(x, keep_prob):\n",
    "    \"\"\"\n",
    "    Create a convolutional neural network model\n",
    "    : x: Placeholder tensor that holds image data.\n",
    "    : keep_prob: Placeholder tensor that hold dropout keep probability.\n",
    "    : return: Tensor that represents logits\n",
    "    \"\"\"\n",
    "    # TODO: Apply 1, 2, or 3 Convolution and Max Pool layers\n",
    "    #    Play around with different number of outputs, kernel size and stride\n",
    "    # Function Definition from Above:\n",
    "    #    conv2d_maxpool(x_tensor, conv_num_outputs, conv_ksize, conv_strides, pool_ksize, pool_strides)\n",
    "    conv1 = conv2d_maxpool(x, 16, [5,5], [1,1], [2,2], [2,2])\n",
    "    conv2 = conv2d_maxpool(conv1, 64, [4,4], [2,2], [2,2], [2,2])\n",
    "    \n",
    "    # TODO: Apply a Flatten Layer\n",
    "    # Function Definition from Above:\n",
    "    #   flatten(x_tensor)\n",
    "    flat = flatten(conv2)\n",
    "\n",
    "    # TODO: Apply 1, 2, or 3 Fully Connected Layers\n",
    "    #    Play around with different number of outputs\n",
    "    # Function Definition from Above:\n",
    "    #   fully_conn(x_tensor, num_outputs)\n",
    "    fc1 = fully_conn(flat, 1024)\n",
    "    fc1 = tf.nn.dropout(fc1, keep_prob)\n",
    "    \n",
    "    # TODO: Apply an Output Layer\n",
    "    #    Set this to the number of classes\n",
    "    # Function Definition from Above:\n",
    "    #   output(x_tensor, num_outputs)\n",
    "    out = output(fc1, 10)\n",
    "    \n",
    "    # TODO: return output\n",
    "    return out\n",
    "\n",
    "\n",
    "\"\"\"\n",
    "DON'T MODIFY ANYTHING IN THIS CELL THAT IS BELOW THIS LINE\n",
    "\"\"\"\n",
    "\n",
    "##############################\n",
    "## Build the Neural Network ##\n",
    "##############################\n",
    "\n",
    "# Remove previous weights, bias, inputs, etc..\n",
    "tf.reset_default_graph()\n",
    "\n",
    "# Inputs\n",
    "x = neural_net_image_input((32, 32, 3))\n",
    "y = neural_net_label_input(10)\n",
    "keep_prob = neural_net_keep_prob_input()\n",
    "\n",
    "# Model\n",
    "logits = conv_net(x, keep_prob)\n",
    "\n",
    "# Name logits Tensor, so that is can be loaded from disk after training\n",
    "logits = tf.identity(logits, name='logits')\n",
    "\n",
    "# Loss and Optimizer\n",
    "cost = tf.reduce_mean(tf.nn.softmax_cross_entropy_with_logits(logits=logits, labels=y))\n",
    "optimizer = tf.train.AdamOptimizer().minimize(cost)\n",
    "\n",
    "# Accuracy\n",
    "correct_pred = tf.equal(tf.argmax(logits, 1), tf.argmax(y, 1))\n",
    "accuracy = tf.reduce_mean(tf.cast(correct_pred, tf.float32), name='accuracy')\n",
    "\n",
    "tests.test_conv_net(conv_net)"
   ]
  },
  {
   "cell_type": "markdown",
   "metadata": {
    "deletable": true,
    "editable": true
   },
   "source": [
    "## Train the Neural Network\n",
    "### Single Optimization\n",
    "Implement the function `train_neural_network` to do a single optimization.  The optimization should use `optimizer` to optimize in `session` with a `feed_dict` of the following:\n",
    "* `x` for image input\n",
    "* `y` for labels\n",
    "* `keep_prob` for keep probability for dropout\n",
    "\n",
    "This function will be called for each batch, so `tf.global_variables_initializer()` has already been called.\n",
    "\n",
    "Note: Nothing needs to be returned. This function is only optimizing the neural network."
   ]
  },
  {
   "cell_type": "code",
   "execution_count": 13,
   "metadata": {
    "collapsed": false,
    "deletable": true,
    "editable": true
   },
   "outputs": [
    {
     "name": "stdout",
     "output_type": "stream",
     "text": [
      "Tests Passed\n"
     ]
    }
   ],
   "source": [
    "def train_neural_network(session, optimizer, keep_probability, feature_batch, label_batch):\n",
    "    \"\"\"\n",
    "    Optimize the session on a batch of images and labels\n",
    "    : session: Current TensorFlow session\n",
    "    : optimizer: TensorFlow optimizer function\n",
    "    : keep_probability: keep probability\n",
    "    : feature_batch: Batch of Numpy image data\n",
    "    : label_batch: Batch of Numpy label data\n",
    "    \"\"\"\n",
    "    # TODO: Implement Function\n",
    "    session.run(optimizer, feed_dict={x:feature_batch, y:label_batch, keep_prob:keep_probability})\n",
    "        \n",
    "    pass\n",
    "\n",
    "\n",
    "\"\"\"\n",
    "DON'T MODIFY ANYTHING IN THIS CELL THAT IS BELOW THIS LINE\n",
    "\"\"\"\n",
    "tests.test_train_nn(train_neural_network)"
   ]
  },
  {
   "cell_type": "markdown",
   "metadata": {
    "deletable": true,
    "editable": true
   },
   "source": [
    "### Show Stats\n",
    "Implement the function `print_stats` to print loss and validation accuracy.  Use the global variables `valid_features` and `valid_labels` to calculate validation accuracy.  Use a keep probability of `1.0` to calculate the loss and validation accuracy."
   ]
  },
  {
   "cell_type": "code",
   "execution_count": 24,
   "metadata": {
    "collapsed": false,
    "deletable": true,
    "editable": true
   },
   "outputs": [],
   "source": [
    "def print_stats(session, feature_batch, label_batch, cost, accuracy):\n",
    "    \"\"\"\n",
    "    Print information about loss and validation accuracy\n",
    "    : session: Current TensorFlow session\n",
    "    : feature_batch: Batch of Numpy image data\n",
    "    : label_batch: Batch of Numpy label data\n",
    "    : cost: TensorFlow cost function\n",
    "    : accuracy: TensorFlow accuracy function\n",
    "    \"\"\"\n",
    "    # TODO: Implement Function\n",
    "    loss = session.run(cost, feed_dict={x:feature_batch, y:label_batch, keep_prob: 1.})\n",
    "    valid_acc = session.run(accuracy, feed_dict={x:valid_features, y:valid_labels, keep_prob: 1.})\n",
    "    print('Loss at {:>10.4f}'.format(loss), 'Val accuracy at {:.6f}'.format(valid_acc))    \n",
    "    pass"
   ]
  },
  {
   "cell_type": "markdown",
   "metadata": {
    "deletable": true,
    "editable": true
   },
   "source": [
    "### Hyperparameters\n",
    "Tune the following parameters:\n",
    "* Set `epochs` to the number of iterations until the network stops learning or start overfitting\n",
    "* Set `batch_size` to the highest number that your machine has memory for.  Most people set them to common sizes of memory:\n",
    " * 64\n",
    " * 128\n",
    " * 256\n",
    " * ...\n",
    "* Set `keep_probability` to the probability of keeping a node using dropout"
   ]
  },
  {
   "cell_type": "code",
   "execution_count": 90,
   "metadata": {
    "collapsed": true,
    "deletable": true,
    "editable": true
   },
   "outputs": [],
   "source": [
    "# TODO: Tune Parameters\n",
    "epochs = 50\n",
    "batch_size = 128\n",
    "keep_probability = 0.6"
   ]
  },
  {
   "cell_type": "markdown",
   "metadata": {
    "deletable": true,
    "editable": true
   },
   "source": [
    "### Train on a Single CIFAR-10 Batch\n",
    "Instead of training the neural network on all the CIFAR-10 batches of data, let's use a single batch. This should save time while you iterate on the model to get a better accuracy.  Once the final validation accuracy is 50% or greater, run the model on all the data in the next section."
   ]
  },
  {
   "cell_type": "code",
   "execution_count": 93,
   "metadata": {
    "collapsed": false,
    "deletable": true,
    "editable": true
   },
   "outputs": [
    {
     "name": "stdout",
     "output_type": "stream",
     "text": [
      "Checking the Training on a Single Batch...\n",
      "Epoch  1, CIFAR-10 Batch 1:  Loss at     2.1397 Val accuracy at 0.235800\n",
      "Epoch  2, CIFAR-10 Batch 1:  Loss at     1.9649 Val accuracy at 0.309200\n",
      "Epoch  3, CIFAR-10 Batch 1:  Loss at     1.7777 Val accuracy at 0.343800\n",
      "Epoch  4, CIFAR-10 Batch 1:  Loss at     1.6877 Val accuracy at 0.361400\n",
      "Epoch  5, CIFAR-10 Batch 1:  Loss at     1.6732 Val accuracy at 0.394600\n",
      "Epoch  6, CIFAR-10 Batch 1:  Loss at     1.5691 Val accuracy at 0.403800\n",
      "Epoch  7, CIFAR-10 Batch 1:  Loss at     1.6132 Val accuracy at 0.400600\n",
      "Epoch  8, CIFAR-10 Batch 1:  Loss at     1.4341 Val accuracy at 0.424800\n",
      "Epoch  9, CIFAR-10 Batch 1:  Loss at     1.3936 Val accuracy at 0.441200\n",
      "Epoch 10, CIFAR-10 Batch 1:  Loss at     1.2721 Val accuracy at 0.445000\n",
      "Epoch 11, CIFAR-10 Batch 1:  Loss at     1.1878 Val accuracy at 0.444000\n",
      "Epoch 12, CIFAR-10 Batch 1:  Loss at     1.0986 Val accuracy at 0.453000\n",
      "Epoch 13, CIFAR-10 Batch 1:  Loss at     1.0224 Val accuracy at 0.460600\n",
      "Epoch 14, CIFAR-10 Batch 1:  Loss at     0.9584 Val accuracy at 0.463600\n",
      "Epoch 15, CIFAR-10 Batch 1:  Loss at     0.8788 Val accuracy at 0.455600\n",
      "Epoch 16, CIFAR-10 Batch 1:  Loss at     0.7949 Val accuracy at 0.468400\n",
      "Epoch 17, CIFAR-10 Batch 1:  Loss at     0.7906 Val accuracy at 0.467400\n",
      "Epoch 18, CIFAR-10 Batch 1:  Loss at     0.7761 Val accuracy at 0.467800\n",
      "Epoch 19, CIFAR-10 Batch 1:  Loss at     0.7423 Val accuracy at 0.470800\n",
      "Epoch 20, CIFAR-10 Batch 1:  Loss at     0.6773 Val accuracy at 0.483800\n",
      "Epoch 21, CIFAR-10 Batch 1:  Loss at     0.6113 Val accuracy at 0.486200\n",
      "Epoch 22, CIFAR-10 Batch 1:  Loss at     0.5861 Val accuracy at 0.477000\n",
      "Epoch 23, CIFAR-10 Batch 1:  Loss at     0.6012 Val accuracy at 0.477200\n",
      "Epoch 24, CIFAR-10 Batch 1:  Loss at     0.5723 Val accuracy at 0.478800\n",
      "Epoch 25, CIFAR-10 Batch 1:  Loss at     0.5488 Val accuracy at 0.480200\n",
      "Epoch 26, CIFAR-10 Batch 1:  Loss at     0.4487 Val accuracy at 0.489800\n",
      "Epoch 27, CIFAR-10 Batch 1:  Loss at     0.4805 Val accuracy at 0.490400\n",
      "Epoch 28, CIFAR-10 Batch 1:  Loss at     0.4439 Val accuracy at 0.480400\n",
      "Epoch 29, CIFAR-10 Batch 1:  Loss at     0.4502 Val accuracy at 0.489600\n",
      "Epoch 30, CIFAR-10 Batch 1:  Loss at     0.4231 Val accuracy at 0.493600\n",
      "Epoch 31, CIFAR-10 Batch 1:  Loss at     0.4027 Val accuracy at 0.495600\n",
      "Epoch 32, CIFAR-10 Batch 1:  Loss at     0.3767 Val accuracy at 0.498200\n",
      "Epoch 33, CIFAR-10 Batch 1:  Loss at     0.3328 Val accuracy at 0.496200\n",
      "Epoch 34, CIFAR-10 Batch 1:  Loss at     0.2722 Val accuracy at 0.502800\n",
      "Epoch 35, CIFAR-10 Batch 1:  Loss at     0.2720 Val accuracy at 0.489000\n",
      "Epoch 36, CIFAR-10 Batch 1:  Loss at     0.2405 Val accuracy at 0.484800\n",
      "Epoch 37, CIFAR-10 Batch 1:  Loss at     0.2514 Val accuracy at 0.494200\n",
      "Epoch 38, CIFAR-10 Batch 1:  Loss at     0.2226 Val accuracy at 0.499200\n",
      "Epoch 39, CIFAR-10 Batch 1:  Loss at     0.1879 Val accuracy at 0.498200\n",
      "Epoch 40, CIFAR-10 Batch 1:  Loss at     0.2265 Val accuracy at 0.501600\n",
      "Epoch 41, CIFAR-10 Batch 1:  Loss at     0.2287 Val accuracy at 0.499600\n",
      "Epoch 42, CIFAR-10 Batch 1:  Loss at     0.1769 Val accuracy at 0.503400\n",
      "Epoch 43, CIFAR-10 Batch 1:  Loss at     0.2232 Val accuracy at 0.495600\n",
      "Epoch 44, CIFAR-10 Batch 1:  Loss at     0.1911 Val accuracy at 0.501800\n",
      "Epoch 45, CIFAR-10 Batch 1:  Loss at     0.1432 Val accuracy at 0.505400\n",
      "Epoch 46, CIFAR-10 Batch 1:  Loss at     0.1239 Val accuracy at 0.507200\n",
      "Epoch 47, CIFAR-10 Batch 1:  Loss at     0.1037 Val accuracy at 0.510400\n",
      "Epoch 48, CIFAR-10 Batch 1:  Loss at     0.1336 Val accuracy at 0.512600\n",
      "Epoch 49, CIFAR-10 Batch 1:  Loss at     0.0990 Val accuracy at 0.510400\n",
      "Epoch 50, CIFAR-10 Batch 1:  Loss at     0.0811 Val accuracy at 0.508800\n"
     ]
    }
   ],
   "source": [
    "\"\"\"\n",
    "DON'T MODIFY ANYTHING IN THIS CELL\n",
    "\"\"\"\n",
    "print('Checking the Training on a Single Batch...')\n",
    "with tf.Session() as sess:\n",
    "    # Initializing the variables\n",
    "    sess.run(tf.global_variables_initializer())\n",
    "    \n",
    "    # Training cycle\n",
    "    for epoch in range(epochs):\n",
    "        batch_i = 1\n",
    "        for batch_features, batch_labels in helper.load_preprocess_training_batch(batch_i, batch_size):\n",
    "            train_neural_network(sess, optimizer, keep_probability, batch_features, batch_labels)\n",
    "        print('Epoch {:>2}, CIFAR-10 Batch {}:  '.format(epoch + 1, batch_i), end='')\n",
    "        print_stats(sess, batch_features, batch_labels, cost, accuracy)"
   ]
  },
  {
   "cell_type": "markdown",
   "metadata": {
    "deletable": true,
    "editable": true
   },
   "source": [
    "### Fully Train the Model\n",
    "Now that you got a good accuracy with a single CIFAR-10 batch, try it with all five batches."
   ]
  },
  {
   "cell_type": "code",
   "execution_count": 94,
   "metadata": {
    "collapsed": false,
    "deletable": true,
    "editable": true
   },
   "outputs": [
    {
     "name": "stdout",
     "output_type": "stream",
     "text": [
      "Training...\n",
      "Epoch  1, CIFAR-10 Batch 1:  Loss at     2.3143 Val accuracy at 0.173400\n",
      "Epoch  1, CIFAR-10 Batch 2:  Loss at     2.2200 Val accuracy at 0.222600\n",
      "Epoch  1, CIFAR-10 Batch 3:  Loss at     1.8394 Val accuracy at 0.263000\n",
      "Epoch  1, CIFAR-10 Batch 4:  Loss at     1.8981 Val accuracy at 0.295400\n",
      "Epoch  1, CIFAR-10 Batch 5:  Loss at     1.9757 Val accuracy at 0.284400\n",
      "Epoch  2, CIFAR-10 Batch 1:  Loss at     2.1549 Val accuracy at 0.326400\n",
      "Epoch  2, CIFAR-10 Batch 2:  Loss at     1.8196 Val accuracy at 0.316000\n",
      "Epoch  2, CIFAR-10 Batch 3:  Loss at     1.6248 Val accuracy at 0.348600\n",
      "Epoch  2, CIFAR-10 Batch 4:  Loss at     1.6064 Val accuracy at 0.371400\n",
      "Epoch  2, CIFAR-10 Batch 5:  Loss at     1.7701 Val accuracy at 0.375000\n",
      "Epoch  3, CIFAR-10 Batch 1:  Loss at     1.9692 Val accuracy at 0.375000\n",
      "Epoch  3, CIFAR-10 Batch 2:  Loss at     1.7167 Val accuracy at 0.360000\n",
      "Epoch  3, CIFAR-10 Batch 3:  Loss at     1.5238 Val accuracy at 0.389600\n",
      "Epoch  3, CIFAR-10 Batch 4:  Loss at     1.5511 Val accuracy at 0.392800\n",
      "Epoch  3, CIFAR-10 Batch 5:  Loss at     1.7159 Val accuracy at 0.400800\n",
      "Epoch  4, CIFAR-10 Batch 1:  Loss at     1.9207 Val accuracy at 0.398600\n",
      "Epoch  4, CIFAR-10 Batch 2:  Loss at     1.6752 Val accuracy at 0.411000\n",
      "Epoch  4, CIFAR-10 Batch 3:  Loss at     1.4258 Val accuracy at 0.407000\n",
      "Epoch  4, CIFAR-10 Batch 4:  Loss at     1.4962 Val accuracy at 0.424000\n",
      "Epoch  4, CIFAR-10 Batch 5:  Loss at     1.6398 Val accuracy at 0.416400\n",
      "Epoch  5, CIFAR-10 Batch 1:  Loss at     1.8180 Val accuracy at 0.416200\n",
      "Epoch  5, CIFAR-10 Batch 2:  Loss at     1.6119 Val accuracy at 0.412600\n",
      "Epoch  5, CIFAR-10 Batch 3:  Loss at     1.4171 Val accuracy at 0.423200\n",
      "Epoch  5, CIFAR-10 Batch 4:  Loss at     1.4899 Val accuracy at 0.422800\n",
      "Epoch  5, CIFAR-10 Batch 5:  Loss at     1.6044 Val accuracy at 0.440600\n",
      "Epoch  6, CIFAR-10 Batch 1:  Loss at     1.6920 Val accuracy at 0.457400\n",
      "Epoch  6, CIFAR-10 Batch 2:  Loss at     1.5802 Val accuracy at 0.448200\n",
      "Epoch  6, CIFAR-10 Batch 3:  Loss at     1.3067 Val accuracy at 0.454600\n",
      "Epoch  6, CIFAR-10 Batch 4:  Loss at     1.3509 Val accuracy at 0.445800\n",
      "Epoch  6, CIFAR-10 Batch 5:  Loss at     1.5606 Val accuracy at 0.453600\n",
      "Epoch  7, CIFAR-10 Batch 1:  Loss at     1.6269 Val accuracy at 0.465200\n",
      "Epoch  7, CIFAR-10 Batch 2:  Loss at     1.5075 Val accuracy at 0.455400\n",
      "Epoch  7, CIFAR-10 Batch 3:  Loss at     1.2799 Val accuracy at 0.444800\n",
      "Epoch  7, CIFAR-10 Batch 4:  Loss at     1.3122 Val accuracy at 0.448400\n",
      "Epoch  7, CIFAR-10 Batch 5:  Loss at     1.4361 Val accuracy at 0.478200\n",
      "Epoch  8, CIFAR-10 Batch 1:  Loss at     1.5488 Val accuracy at 0.462600\n",
      "Epoch  8, CIFAR-10 Batch 2:  Loss at     1.5116 Val accuracy at 0.469200\n",
      "Epoch  8, CIFAR-10 Batch 3:  Loss at     1.1824 Val accuracy at 0.469400\n",
      "Epoch  8, CIFAR-10 Batch 4:  Loss at     1.2391 Val accuracy at 0.471000\n",
      "Epoch  8, CIFAR-10 Batch 5:  Loss at     1.4204 Val accuracy at 0.470800\n",
      "Epoch  9, CIFAR-10 Batch 1:  Loss at     1.4751 Val accuracy at 0.491400\n",
      "Epoch  9, CIFAR-10 Batch 2:  Loss at     1.4723 Val accuracy at 0.483600\n",
      "Epoch  9, CIFAR-10 Batch 3:  Loss at     1.1358 Val accuracy at 0.465600\n",
      "Epoch  9, CIFAR-10 Batch 4:  Loss at     1.2300 Val accuracy at 0.504400\n",
      "Epoch  9, CIFAR-10 Batch 5:  Loss at     1.2722 Val accuracy at 0.498400\n",
      "Epoch 10, CIFAR-10 Batch 1:  Loss at     1.4059 Val accuracy at 0.513400\n",
      "Epoch 10, CIFAR-10 Batch 2:  Loss at     1.3717 Val accuracy at 0.507800\n",
      "Epoch 10, CIFAR-10 Batch 3:  Loss at     1.1175 Val accuracy at 0.504600\n",
      "Epoch 10, CIFAR-10 Batch 4:  Loss at     1.1467 Val accuracy at 0.508000\n",
      "Epoch 10, CIFAR-10 Batch 5:  Loss at     1.2558 Val accuracy at 0.505000\n",
      "Epoch 11, CIFAR-10 Batch 1:  Loss at     1.3418 Val accuracy at 0.512800\n",
      "Epoch 11, CIFAR-10 Batch 2:  Loss at     1.2975 Val accuracy at 0.524000\n",
      "Epoch 11, CIFAR-10 Batch 3:  Loss at     1.0505 Val accuracy at 0.498600\n",
      "Epoch 11, CIFAR-10 Batch 4:  Loss at     1.1315 Val accuracy at 0.513600\n",
      "Epoch 11, CIFAR-10 Batch 5:  Loss at     1.2380 Val accuracy at 0.504600\n",
      "Epoch 12, CIFAR-10 Batch 1:  Loss at     1.3412 Val accuracy at 0.497600\n",
      "Epoch 12, CIFAR-10 Batch 2:  Loss at     1.2672 Val accuracy at 0.536800\n",
      "Epoch 12, CIFAR-10 Batch 3:  Loss at     0.9561 Val accuracy at 0.514600\n",
      "Epoch 12, CIFAR-10 Batch 4:  Loss at     1.0578 Val accuracy at 0.529000\n",
      "Epoch 12, CIFAR-10 Batch 5:  Loss at     1.1971 Val accuracy at 0.540600\n",
      "Epoch 13, CIFAR-10 Batch 1:  Loss at     1.2827 Val accuracy at 0.544800\n",
      "Epoch 13, CIFAR-10 Batch 2:  Loss at     1.2344 Val accuracy at 0.526600\n",
      "Epoch 13, CIFAR-10 Batch 3:  Loss at     1.0105 Val accuracy at 0.521400\n",
      "Epoch 13, CIFAR-10 Batch 4:  Loss at     0.9788 Val accuracy at 0.530000\n",
      "Epoch 13, CIFAR-10 Batch 5:  Loss at     1.1224 Val accuracy at 0.542400\n",
      "Epoch 14, CIFAR-10 Batch 1:  Loss at     1.1992 Val accuracy at 0.544600\n",
      "Epoch 14, CIFAR-10 Batch 2:  Loss at     1.1758 Val accuracy at 0.537600\n",
      "Epoch 14, CIFAR-10 Batch 3:  Loss at     0.9327 Val accuracy at 0.523800\n",
      "Epoch 14, CIFAR-10 Batch 4:  Loss at     0.9010 Val accuracy at 0.559000\n",
      "Epoch 14, CIFAR-10 Batch 5:  Loss at     1.0426 Val accuracy at 0.531400\n",
      "Epoch 15, CIFAR-10 Batch 1:  Loss at     1.1561 Val accuracy at 0.540200\n",
      "Epoch 15, CIFAR-10 Batch 2:  Loss at     1.0391 Val accuracy at 0.546200\n",
      "Epoch 15, CIFAR-10 Batch 3:  Loss at     0.8586 Val accuracy at 0.553400\n",
      "Epoch 15, CIFAR-10 Batch 4:  Loss at     0.7795 Val accuracy at 0.557400\n",
      "Epoch 15, CIFAR-10 Batch 5:  Loss at     0.9630 Val accuracy at 0.551600\n",
      "Epoch 16, CIFAR-10 Batch 1:  Loss at     1.1831 Val accuracy at 0.543000\n",
      "Epoch 16, CIFAR-10 Batch 2:  Loss at     0.9658 Val accuracy at 0.563200\n",
      "Epoch 16, CIFAR-10 Batch 3:  Loss at     0.7728 Val accuracy at 0.562400\n",
      "Epoch 16, CIFAR-10 Batch 4:  Loss at     0.8683 Val accuracy at 0.564200\n",
      "Epoch 16, CIFAR-10 Batch 5:  Loss at     0.9321 Val accuracy at 0.559400\n",
      "Epoch 17, CIFAR-10 Batch 1:  Loss at     1.0992 Val accuracy at 0.564800\n",
      "Epoch 17, CIFAR-10 Batch 2:  Loss at     0.8870 Val accuracy at 0.564200\n",
      "Epoch 17, CIFAR-10 Batch 3:  Loss at     0.7521 Val accuracy at 0.562800\n",
      "Epoch 17, CIFAR-10 Batch 4:  Loss at     0.7733 Val accuracy at 0.572000\n",
      "Epoch 17, CIFAR-10 Batch 5:  Loss at     0.9840 Val accuracy at 0.555600\n",
      "Epoch 18, CIFAR-10 Batch 1:  Loss at     1.0567 Val accuracy at 0.560800\n",
      "Epoch 18, CIFAR-10 Batch 2:  Loss at     0.8357 Val accuracy at 0.560400\n",
      "Epoch 18, CIFAR-10 Batch 3:  Loss at     0.6761 Val accuracy at 0.560600\n",
      "Epoch 18, CIFAR-10 Batch 4:  Loss at     0.7473 Val accuracy at 0.575200\n",
      "Epoch 18, CIFAR-10 Batch 5:  Loss at     0.9024 Val accuracy at 0.564200\n",
      "Epoch 19, CIFAR-10 Batch 1:  Loss at     0.9687 Val accuracy at 0.567200\n",
      "Epoch 19, CIFAR-10 Batch 2:  Loss at     0.8014 Val accuracy at 0.559200\n",
      "Epoch 19, CIFAR-10 Batch 3:  Loss at     0.6493 Val accuracy at 0.580600\n",
      "Epoch 19, CIFAR-10 Batch 4:  Loss at     0.7443 Val accuracy at 0.579400\n",
      "Epoch 19, CIFAR-10 Batch 5:  Loss at     0.8505 Val accuracy at 0.586400\n",
      "Epoch 20, CIFAR-10 Batch 1:  Loss at     0.9760 Val accuracy at 0.585600\n",
      "Epoch 20, CIFAR-10 Batch 2:  Loss at     0.7352 Val accuracy at 0.586600\n",
      "Epoch 20, CIFAR-10 Batch 3:  Loss at     0.6269 Val accuracy at 0.576200\n",
      "Epoch 20, CIFAR-10 Batch 4:  Loss at     0.7018 Val accuracy at 0.578000\n",
      "Epoch 20, CIFAR-10 Batch 5:  Loss at     0.7783 Val accuracy at 0.590600\n",
      "Epoch 21, CIFAR-10 Batch 1:  Loss at     0.8939 Val accuracy at 0.583600\n",
      "Epoch 21, CIFAR-10 Batch 2:  Loss at     0.6099 Val accuracy at 0.582200\n",
      "Epoch 21, CIFAR-10 Batch 3:  Loss at     0.5994 Val accuracy at 0.581200\n",
      "Epoch 21, CIFAR-10 Batch 4:  Loss at     0.6950 Val accuracy at 0.587800\n",
      "Epoch 21, CIFAR-10 Batch 5:  Loss at     0.7235 Val accuracy at 0.593800\n",
      "Epoch 22, CIFAR-10 Batch 1:  Loss at     0.8846 Val accuracy at 0.589400\n",
      "Epoch 22, CIFAR-10 Batch 2:  Loss at     0.5326 Val accuracy at 0.580400\n",
      "Epoch 22, CIFAR-10 Batch 3:  Loss at     0.5607 Val accuracy at 0.591200\n",
      "Epoch 22, CIFAR-10 Batch 4:  Loss at     0.6136 Val accuracy at 0.587200\n",
      "Epoch 22, CIFAR-10 Batch 5:  Loss at     0.6527 Val accuracy at 0.593800\n",
      "Epoch 23, CIFAR-10 Batch 1:  Loss at     0.8151 Val accuracy at 0.594000\n",
      "Epoch 23, CIFAR-10 Batch 2:  Loss at     0.5135 Val accuracy at 0.594000\n",
      "Epoch 23, CIFAR-10 Batch 3:  Loss at     0.5560 Val accuracy at 0.579600\n",
      "Epoch 23, CIFAR-10 Batch 4:  Loss at     0.5339 Val accuracy at 0.593800\n",
      "Epoch 23, CIFAR-10 Batch 5:  Loss at     0.6513 Val accuracy at 0.604400\n",
      "Epoch 24, CIFAR-10 Batch 1:  Loss at     0.6986 Val accuracy at 0.601400\n",
      "Epoch 24, CIFAR-10 Batch 2:  Loss at     0.4595 Val accuracy at 0.592800\n",
      "Epoch 24, CIFAR-10 Batch 3:  Loss at     0.4474 Val accuracy at 0.595600\n",
      "Epoch 24, CIFAR-10 Batch 4:  Loss at     0.5335 Val accuracy at 0.591600\n",
      "Epoch 24, CIFAR-10 Batch 5:  Loss at     0.6150 Val accuracy at 0.600000\n",
      "Epoch 25, CIFAR-10 Batch 1:  Loss at     0.6868 Val accuracy at 0.596200\n",
      "Epoch 25, CIFAR-10 Batch 2:  Loss at     0.4352 Val accuracy at 0.591400\n",
      "Epoch 25, CIFAR-10 Batch 3:  Loss at     0.4092 Val accuracy at 0.586800\n",
      "Epoch 25, CIFAR-10 Batch 4:  Loss at     0.4731 Val accuracy at 0.599000\n",
      "Epoch 25, CIFAR-10 Batch 5:  Loss at     0.5253 Val accuracy at 0.609800\n",
      "Epoch 26, CIFAR-10 Batch 1:  Loss at     0.5976 Val accuracy at 0.598800\n",
      "Epoch 26, CIFAR-10 Batch 2:  Loss at     0.3700 Val accuracy at 0.602000\n",
      "Epoch 26, CIFAR-10 Batch 3:  Loss at     0.4247 Val accuracy at 0.596200\n",
      "Epoch 26, CIFAR-10 Batch 4:  Loss at     0.4807 Val accuracy at 0.600800\n",
      "Epoch 26, CIFAR-10 Batch 5:  Loss at     0.5571 Val accuracy at 0.602400\n",
      "Epoch 27, CIFAR-10 Batch 1:  Loss at     0.5974 Val accuracy at 0.600400\n",
      "Epoch 27, CIFAR-10 Batch 2:  Loss at     0.3842 Val accuracy at 0.615200\n",
      "Epoch 27, CIFAR-10 Batch 3:  Loss at     0.3847 Val accuracy at 0.608200\n",
      "Epoch 27, CIFAR-10 Batch 4:  Loss at     0.4860 Val accuracy at 0.606800\n",
      "Epoch 27, CIFAR-10 Batch 5:  Loss at     0.4757 Val accuracy at 0.606600\n",
      "Epoch 28, CIFAR-10 Batch 1:  Loss at     0.5517 Val accuracy at 0.603600\n",
      "Epoch 28, CIFAR-10 Batch 2:  Loss at     0.3347 Val accuracy at 0.614000\n",
      "Epoch 28, CIFAR-10 Batch 3:  Loss at     0.3621 Val accuracy at 0.604600\n",
      "Epoch 28, CIFAR-10 Batch 4:  Loss at     0.4087 Val accuracy at 0.603200\n",
      "Epoch 28, CIFAR-10 Batch 5:  Loss at     0.4631 Val accuracy at 0.612800\n",
      "Epoch 29, CIFAR-10 Batch 1:  Loss at     0.5409 Val accuracy at 0.601400\n",
      "Epoch 29, CIFAR-10 Batch 2:  Loss at     0.3196 Val accuracy at 0.608800\n",
      "Epoch 29, CIFAR-10 Batch 3:  Loss at     0.3942 Val accuracy at 0.597600\n",
      "Epoch 29, CIFAR-10 Batch 4:  Loss at     0.3734 Val accuracy at 0.606600\n",
      "Epoch 29, CIFAR-10 Batch 5:  Loss at     0.4184 Val accuracy at 0.611200\n",
      "Epoch 30, CIFAR-10 Batch 1:  Loss at     0.5196 Val accuracy at 0.606600\n",
      "Epoch 30, CIFAR-10 Batch 2:  Loss at     0.3035 Val accuracy at 0.610000\n",
      "Epoch 30, CIFAR-10 Batch 3:  Loss at     0.3102 Val accuracy at 0.606400\n",
      "Epoch 30, CIFAR-10 Batch 4:  Loss at     0.3188 Val accuracy at 0.624000\n",
      "Epoch 30, CIFAR-10 Batch 5:  Loss at     0.3921 Val accuracy at 0.613600\n",
      "Epoch 31, CIFAR-10 Batch 1:  Loss at     0.4866 Val accuracy at 0.609200\n",
      "Epoch 31, CIFAR-10 Batch 2:  Loss at     0.2998 Val accuracy at 0.617600\n",
      "Epoch 31, CIFAR-10 Batch 3:  Loss at     0.3024 Val accuracy at 0.600200\n",
      "Epoch 31, CIFAR-10 Batch 4:  Loss at     0.3105 Val accuracy at 0.610600\n",
      "Epoch 31, CIFAR-10 Batch 5:  Loss at     0.3802 Val accuracy at 0.614400\n",
      "Epoch 32, CIFAR-10 Batch 1:  Loss at     0.4224 Val accuracy at 0.613600\n",
      "Epoch 32, CIFAR-10 Batch 2:  Loss at     0.2208 Val accuracy at 0.619400\n",
      "Epoch 32, CIFAR-10 Batch 3:  Loss at     0.2151 Val accuracy at 0.603200\n",
      "Epoch 32, CIFAR-10 Batch 4:  Loss at     0.2917 Val accuracy at 0.612600\n",
      "Epoch 32, CIFAR-10 Batch 5:  Loss at     0.3151 Val accuracy at 0.617000\n",
      "Epoch 33, CIFAR-10 Batch 1:  Loss at     0.3959 Val accuracy at 0.607800\n",
      "Epoch 33, CIFAR-10 Batch 2:  Loss at     0.2639 Val accuracy at 0.608400\n",
      "Epoch 33, CIFAR-10 Batch 3:  Loss at     0.2307 Val accuracy at 0.611000\n",
      "Epoch 33, CIFAR-10 Batch 4:  Loss at     0.2625 Val accuracy at 0.619000\n",
      "Epoch 33, CIFAR-10 Batch 5:  Loss at     0.3287 Val accuracy at 0.612200\n",
      "Epoch 34, CIFAR-10 Batch 1:  Loss at     0.3990 Val accuracy at 0.607600\n",
      "Epoch 34, CIFAR-10 Batch 2:  Loss at     0.2360 Val accuracy at 0.617800\n",
      "Epoch 34, CIFAR-10 Batch 3:  Loss at     0.2338 Val accuracy at 0.613600\n",
      "Epoch 34, CIFAR-10 Batch 4:  Loss at     0.2207 Val accuracy at 0.617600\n",
      "Epoch 34, CIFAR-10 Batch 5:  Loss at     0.3033 Val accuracy at 0.610600\n",
      "Epoch 35, CIFAR-10 Batch 1:  Loss at     0.3639 Val accuracy at 0.608600\n",
      "Epoch 35, CIFAR-10 Batch 2:  Loss at     0.1770 Val accuracy at 0.619200\n",
      "Epoch 35, CIFAR-10 Batch 3:  Loss at     0.1753 Val accuracy at 0.612800\n",
      "Epoch 35, CIFAR-10 Batch 4:  Loss at     0.2430 Val accuracy at 0.612800\n",
      "Epoch 35, CIFAR-10 Batch 5:  Loss at     0.2765 Val accuracy at 0.610200\n",
      "Epoch 36, CIFAR-10 Batch 1:  Loss at     0.3160 Val accuracy at 0.615600\n",
      "Epoch 36, CIFAR-10 Batch 2:  Loss at     0.1785 Val accuracy at 0.613200\n",
      "Epoch 36, CIFAR-10 Batch 3:  Loss at     0.2175 Val accuracy at 0.608200\n",
      "Epoch 36, CIFAR-10 Batch 4:  Loss at     0.2464 Val accuracy at 0.612000\n",
      "Epoch 36, CIFAR-10 Batch 5:  Loss at     0.3100 Val accuracy at 0.605600\n",
      "Epoch 37, CIFAR-10 Batch 1:  Loss at     0.3389 Val accuracy at 0.611000\n",
      "Epoch 37, CIFAR-10 Batch 2:  Loss at     0.1587 Val accuracy at 0.620200\n",
      "Epoch 37, CIFAR-10 Batch 3:  Loss at     0.1779 Val accuracy at 0.609400\n",
      "Epoch 37, CIFAR-10 Batch 4:  Loss at     0.2232 Val accuracy at 0.603000\n",
      "Epoch 37, CIFAR-10 Batch 5:  Loss at     0.2442 Val accuracy at 0.613600\n",
      "Epoch 38, CIFAR-10 Batch 1:  Loss at     0.2844 Val accuracy at 0.616200\n",
      "Epoch 38, CIFAR-10 Batch 2:  Loss at     0.1569 Val accuracy at 0.620400\n",
      "Epoch 38, CIFAR-10 Batch 3:  Loss at     0.1175 Val accuracy at 0.612600\n",
      "Epoch 38, CIFAR-10 Batch 4:  Loss at     0.2349 Val accuracy at 0.604000\n",
      "Epoch 38, CIFAR-10 Batch 5:  Loss at     0.2530 Val accuracy at 0.614000\n",
      "Epoch 39, CIFAR-10 Batch 1:  Loss at     0.2465 Val accuracy at 0.610600\n",
      "Epoch 39, CIFAR-10 Batch 2:  Loss at     0.1341 Val accuracy at 0.621200\n",
      "Epoch 39, CIFAR-10 Batch 3:  Loss at     0.1594 Val accuracy at 0.602400\n",
      "Epoch 39, CIFAR-10 Batch 4:  Loss at     0.1921 Val accuracy at 0.614000\n",
      "Epoch 39, CIFAR-10 Batch 5:  Loss at     0.2303 Val accuracy at 0.610800\n",
      "Epoch 40, CIFAR-10 Batch 1:  Loss at     0.2072 Val accuracy at 0.610000\n",
      "Epoch 40, CIFAR-10 Batch 2:  Loss at     0.1170 Val accuracy at 0.620000\n",
      "Epoch 40, CIFAR-10 Batch 3:  Loss at     0.1907 Val accuracy at 0.612600\n",
      "Epoch 40, CIFAR-10 Batch 4:  Loss at     0.1769 Val accuracy at 0.609800\n",
      "Epoch 40, CIFAR-10 Batch 5:  Loss at     0.1984 Val accuracy at 0.605400\n",
      "Epoch 41, CIFAR-10 Batch 1:  Loss at     0.2035 Val accuracy at 0.618000\n",
      "Epoch 41, CIFAR-10 Batch 2:  Loss at     0.1029 Val accuracy at 0.612600\n",
      "Epoch 41, CIFAR-10 Batch 3:  Loss at     0.1500 Val accuracy at 0.612400\n",
      "Epoch 41, CIFAR-10 Batch 4:  Loss at     0.1873 Val accuracy at 0.611400\n",
      "Epoch 41, CIFAR-10 Batch 5:  Loss at     0.2037 Val accuracy at 0.622400\n",
      "Epoch 42, CIFAR-10 Batch 1:  Loss at     0.2060 Val accuracy at 0.619000\n",
      "Epoch 42, CIFAR-10 Batch 2:  Loss at     0.1104 Val accuracy at 0.611600\n",
      "Epoch 42, CIFAR-10 Batch 3:  Loss at     0.1484 Val accuracy at 0.603400\n",
      "Epoch 42, CIFAR-10 Batch 4:  Loss at     0.2052 Val accuracy at 0.609000\n",
      "Epoch 42, CIFAR-10 Batch 5:  Loss at     0.1954 Val accuracy at 0.621000\n",
      "Epoch 43, CIFAR-10 Batch 1:  Loss at     0.2577 Val accuracy at 0.611400\n",
      "Epoch 43, CIFAR-10 Batch 2:  Loss at     0.1096 Val accuracy at 0.610600\n",
      "Epoch 43, CIFAR-10 Batch 3:  Loss at     0.1082 Val accuracy at 0.608200\n",
      "Epoch 43, CIFAR-10 Batch 4:  Loss at     0.2045 Val accuracy at 0.596600\n",
      "Epoch 43, CIFAR-10 Batch 5:  Loss at     0.1919 Val accuracy at 0.616800\n",
      "Epoch 44, CIFAR-10 Batch 1:  Loss at     0.2001 Val accuracy at 0.612600\n",
      "Epoch 44, CIFAR-10 Batch 2:  Loss at     0.1219 Val accuracy at 0.600000\n",
      "Epoch 44, CIFAR-10 Batch 3:  Loss at     0.1171 Val accuracy at 0.614600\n",
      "Epoch 44, CIFAR-10 Batch 4:  Loss at     0.1507 Val accuracy at 0.603600\n",
      "Epoch 44, CIFAR-10 Batch 5:  Loss at     0.1750 Val accuracy at 0.622000\n",
      "Epoch 45, CIFAR-10 Batch 1:  Loss at     0.1982 Val accuracy at 0.604600\n",
      "Epoch 45, CIFAR-10 Batch 2:  Loss at     0.1100 Val accuracy at 0.611400\n",
      "Epoch 45, CIFAR-10 Batch 3:  Loss at     0.1148 Val accuracy at 0.605000\n",
      "Epoch 45, CIFAR-10 Batch 4:  Loss at     0.1573 Val accuracy at 0.604800\n",
      "Epoch 45, CIFAR-10 Batch 5:  Loss at     0.1667 Val accuracy at 0.609600\n",
      "Epoch 46, CIFAR-10 Batch 1:  Loss at     0.2011 Val accuracy at 0.615600\n",
      "Epoch 46, CIFAR-10 Batch 2:  Loss at     0.1180 Val accuracy at 0.612400\n",
      "Epoch 46, CIFAR-10 Batch 3:  Loss at     0.0969 Val accuracy at 0.604800\n",
      "Epoch 46, CIFAR-10 Batch 4:  Loss at     0.1247 Val accuracy at 0.604600\n",
      "Epoch 46, CIFAR-10 Batch 5:  Loss at     0.1702 Val accuracy at 0.611600\n",
      "Epoch 47, CIFAR-10 Batch 1:  Loss at     0.1659 Val accuracy at 0.620800\n",
      "Epoch 47, CIFAR-10 Batch 2:  Loss at     0.0919 Val accuracy at 0.613000\n",
      "Epoch 47, CIFAR-10 Batch 3:  Loss at     0.0927 Val accuracy at 0.615600\n",
      "Epoch 47, CIFAR-10 Batch 4:  Loss at     0.1091 Val accuracy at 0.610600\n",
      "Epoch 47, CIFAR-10 Batch 5:  Loss at     0.1548 Val accuracy at 0.619000\n",
      "Epoch 48, CIFAR-10 Batch 1:  Loss at     0.1759 Val accuracy at 0.617200\n",
      "Epoch 48, CIFAR-10 Batch 2:  Loss at     0.0866 Val accuracy at 0.607800\n",
      "Epoch 48, CIFAR-10 Batch 3:  Loss at     0.1057 Val accuracy at 0.613200\n",
      "Epoch 48, CIFAR-10 Batch 4:  Loss at     0.1236 Val accuracy at 0.618800\n",
      "Epoch 48, CIFAR-10 Batch 5:  Loss at     0.1547 Val accuracy at 0.620600\n",
      "Epoch 49, CIFAR-10 Batch 1:  Loss at     0.2048 Val accuracy at 0.612800\n",
      "Epoch 49, CIFAR-10 Batch 2:  Loss at     0.0983 Val accuracy at 0.608800\n",
      "Epoch 49, CIFAR-10 Batch 3:  Loss at     0.0735 Val accuracy at 0.612200\n",
      "Epoch 49, CIFAR-10 Batch 4:  Loss at     0.1098 Val accuracy at 0.606400\n",
      "Epoch 49, CIFAR-10 Batch 5:  Loss at     0.1395 Val accuracy at 0.613800\n",
      "Epoch 50, CIFAR-10 Batch 1:  Loss at     0.1699 Val accuracy at 0.610000\n",
      "Epoch 50, CIFAR-10 Batch 2:  Loss at     0.0840 Val accuracy at 0.610000\n",
      "Epoch 50, CIFAR-10 Batch 3:  Loss at     0.0523 Val accuracy at 0.617000\n",
      "Epoch 50, CIFAR-10 Batch 4:  Loss at     0.1326 Val accuracy at 0.612600\n",
      "Epoch 50, CIFAR-10 Batch 5:  Loss at     0.1251 Val accuracy at 0.610800\n"
     ]
    }
   ],
   "source": [
    "\"\"\"\n",
    "DON'T MODIFY ANYTHING IN THIS CELL\n",
    "\"\"\"\n",
    "save_model_path = './image_classification'\n",
    "\n",
    "print('Training...')\n",
    "with tf.Session() as sess:\n",
    "    # Initializing the variables\n",
    "    sess.run(tf.global_variables_initializer())\n",
    "    \n",
    "    # Training cycle\n",
    "    for epoch in range(epochs):\n",
    "        # Loop over all batches\n",
    "        n_batches = 5\n",
    "        for batch_i in range(1, n_batches + 1):\n",
    "            for batch_features, batch_labels in helper.load_preprocess_training_batch(batch_i, batch_size):\n",
    "                train_neural_network(sess, optimizer, keep_probability, batch_features, batch_labels)\n",
    "            print('Epoch {:>2}, CIFAR-10 Batch {}:  '.format(epoch + 1, batch_i), end='')\n",
    "            print_stats(sess, batch_features, batch_labels, cost, accuracy)\n",
    "            \n",
    "    # Save Model\n",
    "    saver = tf.train.Saver()\n",
    "    save_path = saver.save(sess, save_model_path)"
   ]
  },
  {
   "cell_type": "markdown",
   "metadata": {
    "deletable": true,
    "editable": true
   },
   "source": [
    "# Checkpoint\n",
    "The model has been saved to disk.\n",
    "## Test Model\n",
    "Test your model against the test dataset.  This will be your final accuracy. You should have an accuracy greater than 50%. If you don't, keep tweaking the model architecture and parameters."
   ]
  },
  {
   "cell_type": "code",
   "execution_count": 95,
   "metadata": {
    "collapsed": false,
    "deletable": true,
    "editable": true
   },
   "outputs": [
    {
     "name": "stdout",
     "output_type": "stream",
     "text": [
      "Testing Accuracy: 0.6137262658227848\n",
      "\n"
     ]
    },
    {
     "data": {
      "image/png": "[encoded data removed]",
      "text/plain": [
       "<matplotlib.figure.Figure at 0x7f63bfc470b8>"
      ]
     },
     "metadata": {
      "image/png": {
       "height": 319,
       "width": 355
      }
     },
     "output_type": "display_data"
    }
   ],
   "source": [
    "\"\"\"\n",
    "DON'T MODIFY ANYTHING IN THIS CELL\n",
    "\"\"\"\n",
    "%matplotlib inline\n",
    "%config InlineBackend.figure_format = 'retina'\n",
    "\n",
    "import tensorflow as tf\n",
    "import pickle\n",
    "import helper\n",
    "import random\n",
    "\n",
    "# Set batch size if not already set\n",
    "try:\n",
    "    if batch_size:\n",
    "        pass\n",
    "except NameError:\n",
    "    batch_size = 64\n",
    "\n",
    "save_model_path = './image_classification'\n",
    "n_samples = 4\n",
    "top_n_predictions = 3\n",
    "\n",
    "def test_model():\n",
    "    \"\"\"\n",
    "    Test the saved model against the test dataset\n",
    "    \"\"\"\n",
    "\n",
    "    test_features, test_labels = pickle.load(open('preprocess_training.p', mode='rb'))\n",
    "    loaded_graph = tf.Graph()\n",
    "\n",
    "    with tf.Session(graph=loaded_graph) as sess:\n",
    "        # Load model\n",
    "        loader = tf.train.import_meta_graph(save_model_path + '.meta')\n",
    "        loader.restore(sess, save_model_path)\n",
    "\n",
    "        # Get Tensors from loaded model\n",
    "        loaded_x = loaded_graph.get_tensor_by_name('x:0')\n",
    "        loaded_y = loaded_graph.get_tensor_by_name('y:0')\n",
    "        loaded_keep_prob = loaded_graph.get_tensor_by_name('keep_prob:0')\n",
    "        loaded_logits = loaded_graph.get_tensor_by_name('logits:0')\n",
    "        loaded_acc = loaded_graph.get_tensor_by_name('accuracy:0')\n",
    "        \n",
    "        # Get accuracy in batches for memory limitations\n",
    "        test_batch_acc_total = 0\n",
    "        test_batch_count = 0\n",
    "        \n",
    "        for train_feature_batch, train_label_batch in helper.batch_features_labels(test_features, test_labels, batch_size):\n",
    "            test_batch_acc_total += sess.run(\n",
    "                loaded_acc,\n",
    "                feed_dict={loaded_x: train_feature_batch, loaded_y: train_label_batch, loaded_keep_prob: 1.0})\n",
    "            test_batch_count += 1\n",
    "\n",
    "        print('Testing Accuracy: {}\\n'.format(test_batch_acc_total/test_batch_count))\n",
    "\n",
    "        # Print Random Samples\n",
    "        random_test_features, random_test_labels = tuple(zip(*random.sample(list(zip(test_features, test_labels)), n_samples)))\n",
    "        random_test_predictions = sess.run(\n",
    "            tf.nn.top_k(tf.nn.softmax(loaded_logits), top_n_predictions),\n",
    "            feed_dict={loaded_x: random_test_features, loaded_y: random_test_labels, loaded_keep_prob: 1.0})\n",
    "        helper.display_image_predictions(random_test_features, random_test_labels, random_test_predictions)\n",
    "\n",
    "\n",
    "test_model()"
   ]
  },
  {
   "cell_type": "markdown",
   "metadata": {
    "deletable": true,
    "editable": true
   },
   "source": [
    "## Why 50-70% Accuracy?\n",
    "You might be wondering why you can't get an accuracy any higher. First things first, 50% isn't bad for a simple CNN.  Pure guessing would get you 10% accuracy. However, you might notice people are getting scores [well above 70%](http://rodrigob.github.io/are_we_there_yet/build/classification_datasets_results.html#43494641522d3130).  That's because we haven't taught you all there is to know about neural networks. We still need to cover a few more techniques.\n",
    "## Submitting This Project\n",
    "When submitting this project, make sure to run all the cells before saving the notebook.  Save the notebook file as \"dlnd_image_classification.ipynb\" and save it as a HTML file under \"File\" -> \"Download as\".  Include the \"helper.py\" and \"problem_unittests.py\" files in your submission."
   ]
  }
 ],
 "metadata": {
  "anaconda-cloud": {},
  "kernelspec": {
   "display_name": "Python 3",
   "language": "python",
   "name": "python3"
  },
  "language_info": {
   "codemirror_mode": {
    "name": "ipython",
    "version": 3
   },
   "file_extension": ".py",
   "mimetype": "text/x-python",
   "name": "python",
   "nbconvert_exporter": "python",
   "pygments_lexer": "ipython3",
   "version": "3.5.3"
  }
 },
 "nbformat": 4,
 "nbformat_minor": 0
}
